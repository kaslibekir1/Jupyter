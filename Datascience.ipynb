{
 "cells": [
  {
   "cell_type": "markdown",
   "id": "99c6cce2-c21f-47af-a051-703db0ac3cb5",
   "metadata": {},
   "source": [
    "# Datascience"
   ]
  },
  {
   "cell_type": "markdown",
   "id": "d4fc05b1-722a-408c-ac9f-faf1c459bfb0",
   "metadata": {},
   "source": [
    "## This is the Introduction"
   ]
  },
  {
   "cell_type": "markdown",
   "id": "a807f331-3560-431e-87fc-fe3642e99ed9",
   "metadata": {},
   "source": [
    "# Libraries\n",
    "\n",
    "## Ordered List\n",
    "\n",
    "1. Panda \n",
    "2. NumPy\n",
    "3. Matplotlib"
   ]
  },
  {
   "cell_type": "markdown",
   "id": "5bb3da19-6c5b-4379-8b13-2ce071168c68",
   "metadata": {},
   "source": [
    "# Languages\n",
    "## Ordered List\n",
    "1.R\n",
    "2.Python\n",
    "3.Julia"
   ]
  },
  {
   "cell_type": "markdown",
   "id": "5bc42d7a-4d5d-4b79-899e-df77fb7f9675",
   "metadata": {},
   "source": [
    "| Data Science Tools |\n",
    "| --- |\n",
    "| Jupyter Notebook |\n",
    "| Google Colab |\n",
    "| Kaggle Notebooks |\n"
   ]
  },
  {
   "cell_type": "markdown",
   "id": "0d8ae5d2-37ff-420c-bcaf-47bb4427c108",
   "metadata": {},
   "source": [
    "# examples for arithmetics"
   ]
  },
  {
   "cell_type": "code",
   "execution_count": 1,
   "id": "3afb3b65-53c6-4cdd-bbca-b38c34789dfb",
   "metadata": {
    "tags": []
   },
   "outputs": [
    {
     "name": "stdout",
     "output_type": "stream",
     "text": [
      "mnfdgnm\n"
     ]
    }
   ],
   "source": [
    "x=5\n",
    "y=6\n",
    "print(x+y"
   ]
  },
  {
   "cell_type": "code",
   "execution_count": null,
   "id": "04acf0ac-b17b-4cb9-a6ff-5d498ea4ac1f",
   "metadata": {},
   "outputs": [],
   "source": []
  },
  {
   "cell_type": "code",
   "execution_count": null,
   "id": "f58d6da4-a529-4879-b18a-842e2f4a30ff",
   "metadata": {},
   "outputs": [],
   "source": []
  },
  {
   "cell_type": "code",
   "execution_count": null,
   "id": "1a1d5ebe-31c5-4593-b624-f9cc3c46c117",
   "metadata": {},
   "outputs": [],
   "source": []
  },
  {
   "cell_type": "code",
   "execution_count": null,
   "id": "cc846c3e-78cf-4c03-a986-967f805e5ebc",
   "metadata": {},
   "outputs": [],
   "source": []
  }
 ],
 "metadata": {
  "kernelspec": {
   "display_name": "Python",
   "language": "python",
   "name": "conda-env-python-py"
  },
  "language_info": {
   "codemirror_mode": {
    "name": "ipython",
    "version": 3
   },
   "file_extension": ".py",
   "mimetype": "text/x-python",
   "name": "python",
   "nbconvert_exporter": "python",
   "pygments_lexer": "ipython3",
   "version": "3.7.12"
  }
 },
 "nbformat": 4,
 "nbformat_minor": 5
}
